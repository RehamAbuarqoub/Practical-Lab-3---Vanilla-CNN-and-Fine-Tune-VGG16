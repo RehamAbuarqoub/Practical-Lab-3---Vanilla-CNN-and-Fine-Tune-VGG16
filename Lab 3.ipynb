{
 "cells": [
  {
   "cell_type": "code",
   "execution_count": 1,
   "id": "8219ec10",
   "metadata": {},
   "outputs": [],
   "source": [
    "import os\n",
    "import numpy as np\n",
    "import matplotlib.pyplot as plt\n",
    "import seaborn as sns\n",
    "import tensorflow as tf\n",
    "from tensorflow.keras import layers, models\n",
    "from tensorflow.keras.applications import VGG16\n",
    "from tensorflow.keras.preprocessing.image import ImageDataGenerator\n",
    "from tensorflow.keras.callbacks import EarlyStopping, ModelCheckpoint\n",
    "from sklearn.metrics import confusion_matrix, classification_report, precision_recall_curve"
   ]
  },
  {
   "cell_type": "code",
   "execution_count": 2,
   "id": "09b05482",
   "metadata": {},
   "outputs": [],
   "source": [
    "#2. Set paths & parameters\n",
    "base_dir = \"./data/cats_and_dogs_small\"  # Change this if needed\n",
    "img_size = (100, 100)  # Smaller image patch\n",
    "batch_size = 32\n",
    "epochs = 10"
   ]
  },
  {
   "cell_type": "code",
   "execution_count": 3,
   "id": "99166789",
   "metadata": {},
   "outputs": [
    {
     "name": "stdout",
     "output_type": "stream",
     "text": [
      "Found 4000 images belonging to 3 classes.\n",
      "Found 1000 images belonging to 3 classes.\n"
     ]
    }
   ],
   "source": [
    "# 🔄 3. Image preprocessing with generators\n",
    "datagen = ImageDataGenerator(rescale=1./255, validation_split=0.2)\n",
    "\n",
    "train_gen = datagen.flow_from_directory(\n",
    "    base_dir,\n",
    "    target_size=img_size,\n",
    "    batch_size=batch_size,\n",
    "    class_mode='binary',\n",
    "    subset='training'\n",
    ")\n",
    "\n",
    "val_gen = datagen.flow_from_directory(\n",
    "    base_dir,\n",
    "    target_size=img_size,\n",
    "    batch_size=batch_size,\n",
    "    class_mode='binary',\n",
    "    subset='validation',\n",
    "    shuffle=False\n",
    ")"
   ]
  },
  {
   "cell_type": "code",
   "execution_count": 4,
   "id": "f80242ab",
   "metadata": {},
   "outputs": [
    {
     "data": {
      "image/png": "[encoded data removed]",
      "text/plain": [
       "<Figure size 640x480 with 1 Axes>"
      ]
     },
     "metadata": {},
     "output_type": "display_data"
    }
   ],
   "source": [
    "# 📊 4. EDA: plot label distribution\n",
    "sns.countplot(x=train_gen.classes)\n",
    "plt.title(\"Training Set: Cat vs Dog\")\n",
    "plt.xticks([0, 1], [\"Cat\", \"Dog\"])\n",
    "plt.show()\n"
   ]
  },
  {
   "cell_type": "code",
   "execution_count": 6,
   "id": "4cce2f95",
   "metadata": {},
   "outputs": [],
   "source": [
    "# 🧠 5. Define a simple CNN model\n",
    "def build_simple_cnn():\n",
    "    model = models.Sequential([\n",
    "        layers.Conv2D(32, (3, 3), activation='relu', input_shape=(*img_size, 3)),\n",
    "        layers.MaxPooling2D(2, 2),\n",
    "        layers.Conv2D(64, (3, 3), activation='relu'),\n",
    "        layers.MaxPooling2D(2, 2),\n",
    "        layers.Flatten(),\n",
    "        layers.Dense(128, activation='relu'),\n",
    "        layers.Dense(1, activation='sigmoid')\n",
    "    ])\n",
    "    model.compile(optimizer='adam', loss='binary_crossentropy', metrics=['accuracy'])\n",
    "    return model"
   ]
  },
  {
   "cell_type": "code",
   "execution_count": 7,
   "id": "38b09b59",
   "metadata": {},
   "outputs": [
    {
     "name": "stderr",
     "output_type": "stream",
     "text": [
      "c:\\Users\\RAJEH\\AppData\\Local\\Programs\\Python\\Python312\\Lib\\site-packages\\keras\\src\\trainers\\data_adapters\\py_dataset_adapter.py:121: UserWarning: Your `PyDataset` class should call `super().__init__(**kwargs)` in its constructor. `**kwargs` can include `workers`, `use_multiprocessing`, `max_queue_size`. Do not pass these arguments to `fit()`, as they will be ignored.\n",
      "  self._warn_if_super_not_called()\n"
     ]
    },
    {
     "name": "stdout",
     "output_type": "stream",
     "text": [
      "Epoch 1/10\n",
      "\u001b[1m125/125\u001b[0m \u001b[32m━━━━━━━━━━━━━━━━━━━━\u001b[0m\u001b[37m\u001b[0m \u001b[1m0s\u001b[0m 765ms/step - accuracy: 0.3965 - loss: 0.6386"
     ]
    },
    {
     "name": "stderr",
     "output_type": "stream",
     "text": [
      "WARNING:absl:You are saving your model as an HDF5 file via `model.save()` or `keras.saving.save_model(model)`. This file format is considered legacy. We recommend using instead the native Keras format, e.g. `model.save('my_model.keras')` or `keras.saving.save_model(model, 'my_model.keras')`. \n"
     ]
    },
    {
     "name": "stdout",
     "output_type": "stream",
     "text": [
      "\u001b[1m125/125\u001b[0m \u001b[32m━━━━━━━━━━━━━━━━━━━━\u001b[0m\u001b[37m\u001b[0m \u001b[1m110s\u001b[0m 843ms/step - accuracy: 0.3965 - loss: 0.6380 - val_accuracy: 0.4000 - val_loss: 0.5285\n",
      "Epoch 2/10\n",
      "\u001b[1m125/125\u001b[0m \u001b[32m━━━━━━━━━━━━━━━━━━━━\u001b[0m\u001b[37m\u001b[0m \u001b[1m110s\u001b[0m 876ms/step - accuracy: 0.4033 - loss: 0.5099 - val_accuracy: 0.4000 - val_loss: 0.5322\n",
      "Epoch 3/10\n",
      "\u001b[1m125/125\u001b[0m \u001b[32m━━━━━━━━━━━━━━━━━━━━\u001b[0m\u001b[37m\u001b[0m \u001b[1m115s\u001b[0m 919ms/step - accuracy: 0.3996 - loss: 0.4626 - val_accuracy: 0.3960 - val_loss: 0.5691\n",
      "Epoch 4/10\n",
      "\u001b[1m125/125\u001b[0m \u001b[32m━━━━━━━━━━━━━━━━━━━━\u001b[0m\u001b[37m\u001b[0m \u001b[1m99s\u001b[0m 790ms/step - accuracy: 0.4384 - loss: 0.2604 - val_accuracy: 0.4110 - val_loss: 0.6733\n"
     ]
    }
   ],
   "source": [
    "# 🔁 6. Train Simple CNN with Early Stopping\n",
    "cnn_model = build_simple_cnn()\n",
    "\n",
    "early_stop = EarlyStopping(patience=3, restore_best_weights=True)\n",
    "checkpoint_cnn = ModelCheckpoint(\"simple_cnn.h5\", save_best_only=True)\n",
    "\n",
    "history_cnn = cnn_model.fit(\n",
    "    train_gen,\n",
    "    validation_data=val_gen,\n",
    "    epochs=epochs,\n",
    "    callbacks=[early_stop, checkpoint_cnn]\n",
    ")"
   ]
  },
  {
   "cell_type": "code",
   "execution_count": 8,
   "id": "fe9a88e4",
   "metadata": {},
   "outputs": [
    {
     "name": "stdout",
     "output_type": "stream",
     "text": [
      "Epoch 1/10\n",
      "\u001b[1m125/125\u001b[0m \u001b[32m━━━━━━━━━━━━━━━━━━━━\u001b[0m\u001b[37m\u001b[0m \u001b[1m0s\u001b[0m 11s/step - accuracy: 0.3933 - loss: 0.7856 "
     ]
    },
    {
     "name": "stderr",
     "output_type": "stream",
     "text": [
      "WARNING:absl:You are saving your model as an HDF5 file via `model.save()` or `keras.saving.save_model(model)`. This file format is considered legacy. We recommend using instead the native Keras format, e.g. `model.save('my_model.keras')` or `keras.saving.save_model(model, 'my_model.keras')`. \n"
     ]
    },
    {
     "name": "stdout",
     "output_type": "stream",
     "text": [
      "\u001b[1m125/125\u001b[0m \u001b[32m━━━━━━━━━━━━━━━━━━━━\u001b[0m\u001b[37m\u001b[0m \u001b[1m1653s\u001b[0m 13s/step - accuracy: 0.3934 - loss: 0.7847 - val_accuracy: 0.4000 - val_loss: 0.5059\n",
      "Epoch 2/10\n",
      "\u001b[1m125/125\u001b[0m \u001b[32m━━━━━━━━━━━━━━━━━━━━\u001b[0m\u001b[37m\u001b[0m \u001b[1m0s\u001b[0m 10s/step - accuracy: 0.4039 - loss: 0.5108 "
     ]
    },
    {
     "name": "stderr",
     "output_type": "stream",
     "text": [
      "WARNING:absl:You are saving your model as an HDF5 file via `model.save()` or `keras.saving.save_model(model)`. This file format is considered legacy. We recommend using instead the native Keras format, e.g. `model.save('my_model.keras')` or `keras.saving.save_model(model, 'my_model.keras')`. \n"
     ]
    },
    {
     "name": "stdout",
     "output_type": "stream",
     "text": [
      "\u001b[1m125/125\u001b[0m \u001b[32m━━━━━━━━━━━━━━━━━━━━\u001b[0m\u001b[37m\u001b[0m \u001b[1m1646s\u001b[0m 13s/step - accuracy: 0.4039 - loss: 0.5109 - val_accuracy: 0.4000 - val_loss: 0.4995\n",
      "Epoch 3/10\n",
      "\u001b[1m125/125\u001b[0m \u001b[32m━━━━━━━━━━━━━━━━━━━━\u001b[0m\u001b[37m\u001b[0m \u001b[1m1714s\u001b[0m 14s/step - accuracy: 0.3983 - loss: 0.5599 - val_accuracy: 0.4000 - val_loss: 0.5105\n",
      "Epoch 4/10\n",
      "\u001b[1m125/125\u001b[0m \u001b[32m━━━━━━━━━━━━━━━━━━━━\u001b[0m\u001b[37m\u001b[0m \u001b[1m0s\u001b[0m 12s/step - accuracy: 0.3998 - loss: 0.4741 "
     ]
    },
    {
     "name": "stderr",
     "output_type": "stream",
     "text": [
      "WARNING:absl:You are saving your model as an HDF5 file via `model.save()` or `keras.saving.save_model(model)`. This file format is considered legacy. We recommend using instead the native Keras format, e.g. `model.save('my_model.keras')` or `keras.saving.save_model(model, 'my_model.keras')`. \n"
     ]
    },
    {
     "name": "stdout",
     "output_type": "stream",
     "text": [
      "\u001b[1m125/125\u001b[0m \u001b[32m━━━━━━━━━━━━━━━━━━━━\u001b[0m\u001b[37m\u001b[0m \u001b[1m1790s\u001b[0m 14s/step - accuracy: 0.3998 - loss: 0.4740 - val_accuracy: 0.4000 - val_loss: 0.4946\n",
      "Epoch 5/10\n",
      "\u001b[1m125/125\u001b[0m \u001b[32m━━━━━━━━━━━━━━━━━━━━\u001b[0m\u001b[37m\u001b[0m \u001b[1m1814s\u001b[0m 15s/step - accuracy: 0.3933 - loss: 0.4448 - val_accuracy: 0.4000 - val_loss: 0.5307\n",
      "Epoch 6/10\n",
      "\u001b[1m125/125\u001b[0m \u001b[32m━━━━━━━━━━━━━━━━━━━━\u001b[0m\u001b[37m\u001b[0m \u001b[1m1766s\u001b[0m 14s/step - accuracy: 0.4128 - loss: 0.4186 - val_accuracy: 0.3980 - val_loss: 0.4966\n",
      "Epoch 7/10\n",
      "\u001b[1m125/125\u001b[0m \u001b[32m━━━━━━━━━━━━━━━━━━━━\u001b[0m\u001b[37m\u001b[0m \u001b[1m1901s\u001b[0m 15s/step - accuracy: 0.4132 - loss: 0.3881 - val_accuracy: 0.3990 - val_loss: 0.6209\n"
     ]
    }
   ],
   "source": [
    "# 🧠 7. Fine-Tuned VGG16 Model\n",
    "vgg_base = VGG16(include_top=False, weights='imagenet', input_shape=(*img_size, 3))\n",
    "vgg_base.trainable = False  # freeze pre-trained layers\n",
    "\n",
    "vgg_model = models.Sequential([\n",
    "    vgg_base,\n",
    "    layers.Flatten(),\n",
    "    layers.Dense(256, activation='relu'),\n",
    "    layers.Dropout(0.5),\n",
    "    layers.Dense(1, activation='sigmoid')\n",
    "])\n",
    "vgg_model.compile(optimizer='adam', loss='binary_crossentropy', metrics=['accuracy'])\n",
    "\n",
    "checkpoint_vgg = ModelCheckpoint(\"vgg16_finetuned.h5\", save_best_only=True)\n",
    "\n",
    "history_vgg = vgg_model.fit(\n",
    "    train_gen,\n",
    "    validation_data=val_gen,\n",
    "    epochs=epochs,\n",
    "    callbacks=[early_stop, checkpoint_vgg]\n",
    ")"
   ]
  },
  {
   "cell_type": "code",
   "execution_count": 9,
   "id": "be4565a2",
   "metadata": {},
   "outputs": [],
   "source": [
    "# 📈 8. Evaluation Function\n",
    "def evaluate_model(model_path, val_gen):\n",
    "    model = tf.keras.models.load_model(model_path)\n",
    "    preds = model.predict(val_gen).ravel()\n",
    "    pred_labels = (preds > 0.5).astype(int)\n",
    "    \n",
    "    print(confusion_matrix(val_gen.classes, pred_labels))\n",
    "    print(classification_report(val_gen.classes, pred_labels))\n",
    "    \n",
    "    precision, recall, _ = precision_recall_curve(val_gen.classes, preds)\n",
    "    plt.plot(recall, precision)\n",
    "    plt.xlabel(\"Recall\")\n",
    "    plt.ylabel(\"Precision\")\n",
    "    plt.title(\"Precision-Recall Curve\")\n",
    "    plt.show()\n"
   ]
  },
  {
   "cell_type": "code",
   "execution_count": 15,
   "id": "dcebaa06",
   "metadata": {},
   "outputs": [],
   "source": [
    "def evaluate_model(model_path, val_gen):\n",
    "    model = tf.keras.models.load_model(model_path)\n",
    "    preds = model.predict(val_gen).ravel()\n",
    "    pred_labels = (preds > 0.5).astype(int)\n",
    "    true_labels = val_gen.classes\n",
    "\n",
    "    # 🧪 Debug output\n",
    "    print(\"✅ Predictions shape:\", preds.shape)\n",
    "    print(\"✅ Unique values in true labels:\", np.unique(true_labels))\n",
    "\n",
    "    # Metrics\n",
    "    print(\"Confusion Matrix:\\n\", confusion_matrix(true_labels, pred_labels))\n",
    "    print(\"\\nClassification Report:\\n\", classification_report(true_labels, pred_labels))\n",
    "\n",
    "    # Precision-Recall\n",
    "    precision, recall, _ = precision_recall_curve(true_labels, preds)\n",
    "    plt.plot(recall, precision)\n",
    "    plt.xlabel(\"Recall\")\n",
    "    plt.ylabel(\"Precision\")\n",
    "    plt.title(\"Precision-Recall Curve\")\n",
    "    plt.grid(True)\n",
    "    plt.show()\n",
    "\n",
    "    # Misclassified examples\n",
    "    val_filenames = np.array(val_gen.filenames)\n",
    "    wrong_preds = val_filenames[true_labels != pred_labels]\n",
    "    print(\"\\n❌ Example misclassified images:\")\n",
    "    print(wrong_preds[:5])\n"
   ]
  },
  {
   "cell_type": "code",
   "execution_count": 22,
   "id": "f722b88b",
   "metadata": {},
   "outputs": [],
   "source": [
    "\n",
    "def evaluate_model(model_path, val_gen):\n",
    "    # Load best saved model\n",
    "    model = tf.keras.models.load_model(model_path)\n",
    "\n",
    "    # Predict probabilities (not labels!)\n",
    "    preds = model.predict(val_gen).ravel()\n",
    "\n",
    "    # Get true binary labels\n",
    "    true_labels = val_gen.classes\n",
    "\n",
    "    # Debug print to confirm shape and label types\n",
    "    print(\"✅ preds shape:\", preds.shape)\n",
    "    print(\"✅ true_labels unique:\", np.unique(true_labels))\n",
    "\n",
    "    # Convert probabilities to binary predictions\n",
    "    pred_labels = (preds > 0.5).astype(int)\n",
    "\n",
    "    # 💬 Print metrics\n",
    "    print(\"\\n📊 Confusion Matrix:\")\n",
    "    print(confusion_matrix(true_labels, pred_labels))\n",
    "\n",
    "    print(\"\\n📋 Classification Report:\")\n",
    "    print(classification_report(true_labels, pred_labels))\n",
    "\n",
    "    # ✅ Fix: Ensure precision-recall uses binary labels and probability scores\n",
    "    try:\n",
    "        precision, recall, _ = precision_recall_curve(true_labels, preds)\n",
    "        plt.plot(recall, precision)\n",
    "        plt.xlabel(\"Recall\")\n",
    "        plt.ylabel(\"Precision\")\n",
    "        plt.title(\"Precision-Recall Curve\")\n",
    "        plt.grid(True)\n",
    "        plt.show()\n",
    "    except ValueError as e:\n",
    "        print(\"⚠️ Skipping precision-recall curve due to format issue:\", e)\n",
    "\n",
    "    # Show a few misclassified examples\n",
    "    val_filenames = np.array(val_gen.filenames)\n",
    "    wrong_preds = val_filenames[true_labels != pred_labels]\n",
    "    print(\"\\n❌ Example misclassified images:\")\n",
    "    print(wrong_preds[:5])\n"
   ]
  },
  {
   "cell_type": "code",
   "execution_count": 23,
   "id": "1684595d",
   "metadata": {},
   "outputs": [
    {
     "name": "stderr",
     "output_type": "stream",
     "text": [
      "WARNING:absl:Compiled the loaded model, but the compiled metrics have yet to be built. `model.compile_metrics` will be empty until you train or evaluate the model.\n"
     ]
    },
    {
     "name": "stdout",
     "output_type": "stream",
     "text": [
      "\u001b[1m32/32\u001b[0m \u001b[32m━━━━━━━━━━━━━━━━━━━━\u001b[0m\u001b[37m\u001b[0m \u001b[1m16s\u001b[0m 465ms/step\n",
      "✅ preds shape: (1000,)\n",
      "✅ true_labels unique: [0 1 2]\n",
      "\n",
      "📊 Confusion Matrix:\n",
      "[[  0 400   0]\n",
      " [  0 400   0]\n",
      " [  0 200   0]]\n",
      "\n",
      "📋 Classification Report:\n",
      "              precision    recall  f1-score   support\n",
      "\n",
      "           0       0.00      0.00      0.00       400\n",
      "           1       0.40      1.00      0.57       400\n",
      "           2       0.00      0.00      0.00       200\n",
      "\n",
      "    accuracy                           0.40      1000\n",
      "   macro avg       0.13      0.33      0.19      1000\n",
      "weighted avg       0.16      0.40      0.23      1000\n",
      "\n",
      "⚠️ Skipping precision-recall curve due to format issue: multiclass format is not supported\n",
      "\n",
      "❌ Example misclassified images:\n",
      "['test\\\\cat\\\\cat.1500.jpg' 'test\\\\cat\\\\cat.1501.jpg'\n",
      " 'test\\\\cat\\\\cat.1502.jpg' 'test\\\\cat\\\\cat.1503.jpg'\n",
      " 'test\\\\cat\\\\cat.1504.jpg']\n"
     ]
    },
    {
     "name": "stderr",
     "output_type": "stream",
     "text": [
      "c:\\Users\\RAJEH\\AppData\\Local\\Programs\\Python\\Python312\\Lib\\site-packages\\sklearn\\metrics\\_classification.py:1706: UndefinedMetricWarning: Precision is ill-defined and being set to 0.0 in labels with no predicted samples. Use `zero_division` parameter to control this behavior.\n",
      "  _warn_prf(average, modifier, f\"{metric.capitalize()} is\", result.shape[0])\n",
      "c:\\Users\\RAJEH\\AppData\\Local\\Programs\\Python\\Python312\\Lib\\site-packages\\sklearn\\metrics\\_classification.py:1706: UndefinedMetricWarning: Precision is ill-defined and being set to 0.0 in labels with no predicted samples. Use `zero_division` parameter to control this behavior.\n",
      "  _warn_prf(average, modifier, f\"{metric.capitalize()} is\", result.shape[0])\n",
      "c:\\Users\\RAJEH\\AppData\\Local\\Programs\\Python\\Python312\\Lib\\site-packages\\sklearn\\metrics\\_classification.py:1706: UndefinedMetricWarning: Precision is ill-defined and being set to 0.0 in labels with no predicted samples. Use `zero_division` parameter to control this behavior.\n",
      "  _warn_prf(average, modifier, f\"{metric.capitalize()} is\", result.shape[0])\n"
     ]
    }
   ],
   "source": [
    "evaluate_model(\"simple_cnn.h5\", val_gen)\n"
   ]
  },
  {
   "cell_type": "code",
   "execution_count": 24,
   "id": "5ddffd07",
   "metadata": {},
   "outputs": [
    {
     "name": "stderr",
     "output_type": "stream",
     "text": [
      "WARNING:absl:Compiled the loaded model, but the compiled metrics have yet to be built. `model.compile_metrics` will be empty until you train or evaluate the model.\n"
     ]
    },
    {
     "name": "stdout",
     "output_type": "stream",
     "text": [
      "\u001b[1m32/32\u001b[0m \u001b[32m━━━━━━━━━━━━━━━━━━━━\u001b[0m\u001b[37m\u001b[0m \u001b[1m768s\u001b[0m 24s/step\n",
      "✅ preds shape: (1000,)\n",
      "✅ true_labels unique: [0 1 2]\n",
      "\n",
      "📊 Confusion Matrix:\n",
      "[[  0 400   0]\n",
      " [  0 400   0]\n",
      " [  0 200   0]]\n",
      "\n",
      "📋 Classification Report:\n",
      "              precision    recall  f1-score   support\n",
      "\n",
      "           0       0.00      0.00      0.00       400\n",
      "           1       0.40      1.00      0.57       400\n",
      "           2       0.00      0.00      0.00       200\n",
      "\n",
      "    accuracy                           0.40      1000\n",
      "   macro avg       0.13      0.33      0.19      1000\n",
      "weighted avg       0.16      0.40      0.23      1000\n",
      "\n",
      "⚠️ Skipping precision-recall curve due to format issue: multiclass format is not supported\n",
      "\n",
      "❌ Example misclassified images:\n",
      "['test\\\\cat\\\\cat.1500.jpg' 'test\\\\cat\\\\cat.1501.jpg'\n",
      " 'test\\\\cat\\\\cat.1502.jpg' 'test\\\\cat\\\\cat.1503.jpg'\n",
      " 'test\\\\cat\\\\cat.1504.jpg']\n"
     ]
    },
    {
     "name": "stderr",
     "output_type": "stream",
     "text": [
      "c:\\Users\\RAJEH\\AppData\\Local\\Programs\\Python\\Python312\\Lib\\site-packages\\sklearn\\metrics\\_classification.py:1706: UndefinedMetricWarning: Precision is ill-defined and being set to 0.0 in labels with no predicted samples. Use `zero_division` parameter to control this behavior.\n",
      "  _warn_prf(average, modifier, f\"{metric.capitalize()} is\", result.shape[0])\n",
      "c:\\Users\\RAJEH\\AppData\\Local\\Programs\\Python\\Python312\\Lib\\site-packages\\sklearn\\metrics\\_classification.py:1706: UndefinedMetricWarning: Precision is ill-defined and being set to 0.0 in labels with no predicted samples. Use `zero_division` parameter to control this behavior.\n",
      "  _warn_prf(average, modifier, f\"{metric.capitalize()} is\", result.shape[0])\n",
      "c:\\Users\\RAJEH\\AppData\\Local\\Programs\\Python\\Python312\\Lib\\site-packages\\sklearn\\metrics\\_classification.py:1706: UndefinedMetricWarning: Precision is ill-defined and being set to 0.0 in labels with no predicted samples. Use `zero_division` parameter to control this behavior.\n",
      "  _warn_prf(average, modifier, f\"{metric.capitalize()} is\", result.shape[0])\n"
     ]
    }
   ],
   "source": [
    "evaluate_model(\"vgg16_finetuned.h5\", val_gen)"
   ]
  }
 ],
 "metadata": {
  "kernelspec": {
   "display_name": "Python 3",
   "language": "python",
   "name": "python3"
  },
  "language_info": {
   "codemirror_mode": {
    "name": "ipython",
    "version": 3
   },
   "file_extension": ".py",
   "mimetype": "text/x-python",
   "name": "python",
   "nbconvert_exporter": "python",
   "pygments_lexer": "ipython3",
   "version": "3.12.9"
  }
 },
 "nbformat": 4,
 "nbformat_minor": 5
}
